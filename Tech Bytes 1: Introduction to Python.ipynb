{
 "cells": [
  {
   "cell_type": "markdown",
   "metadata": {},
   "source": [
    "# Tech Bytes 1: Introduction to Python\n",
    "\n",
    "Welcome to the first of our Tech Bytes! This time we will take a look on how can we get data from the internet using an API, how can we do some analysis with a library named `pandas` and how can we plot a few things from the data!\n",
    "\n",
    "But before we get started we have to make sure that your environment is ready to go. We are currently using something called a `Jupyter notebook` which is an interactive way to deal with python. this notebook is being hosted on `Google Colab` that allows you to be up and running with python without having to install anything.\n",
    "\n",
    "In order to run the code, you can simply click the play button next to the code or select the cell and press ctrl+enter.\n",
    "\n",
    "To make sure that you are ready for the workshop run the next two cells.\n",
    "\n",
    "The first one should just appear `Hello NNF` below the cell once you run it.\n",
    "\n",
    "The second one should print `You are ready to go!`\n",
    "\n",
    "In case any of them fail or you don't see any output, reach out to Erick before the workshop :)!\n"
   ]
  },
  {
   "cell_type": "code",
   "execution_count": null,
   "metadata": {},
   "outputs": [],
   "source": [
    "greeting = \"Hello \"\n",
    "name = \"NNF!\"\n",
    "\n",
    "print(greeting + name)"
   ]
  },
  {
   "cell_type": "code",
   "execution_count": null,
   "metadata": {},
   "outputs": [],
   "source": [
    "import requests\n",
    "import pandas as pd\n",
    "import matplotlib.pyplot as plt\n",
    "\n",
    "\n",
    "print(\"You are ready to go!\")"
   ]
  },
  {
   "cell_type": "markdown",
   "metadata": {},
   "source": [
    "# STOP!\n",
    "\n",
    "You are ready to go, my friend. Don't go any further if you don't want to spoil yourself ;)\n",
    "\n",
    "We'll see you in the workshop!"
   ]
  },
  {
   "cell_type": "code",
   "execution_count": null,
   "metadata": {},
   "outputs": [],
   "source": []
  },
  {
   "cell_type": "markdown",
   "metadata": {},
   "source": [
    "# Requesting data\n",
    "\n",
    "The internet is based upon requests. Every time that you go to a webpage from your web browser there's a `request` made to the website asking for content and you get an answer. It can be an `.html` page but it can also be a `.json` file or other.\n",
    "\n",
    "There are different types of requests such as `GET`, `POST`, `PUT`, `PATCH`, `DELETE`, etc... but talking about their differences is out of the scope of this workshop. It suffice for you to know that if you want to get data you should use `GET` .\n",
    "\n",
    "For example, when you click on your browser go to `https://google.com`, your browser send a `GET` request to google and it receives an `.html` page. Then your browser renders it and makes it look nice and presents it to you."
   ]
  },
  {
   "cell_type": "markdown",
   "metadata": {},
   "source": [
    "## Our little project: Taylor Swift\n",
    "\n",
    "Believe when I say I tried to find a dataset that would be more \"appropiate\" but this one the funniest and easiest API I could find.\n",
    "So, we're going to work with the Taylor Swift API.\n",
    "\n",
    "This API has three endpoints (think of them as pages in a website):\n",
    "- /albums\n",
    "- /songs\n",
    "- /lyrics\n",
    "\n",
    "We're going to use the requests library to interact with the API.\n",
    "\n",
    "Let's start with the songs endpoint:"
   ]
  },
  {
   "cell_type": "code",
   "execution_count": null,
   "metadata": {},
   "outputs": [],
   "source": [
    "BASE_URL = \"https://taylor-swift-api.sarbo.workers.dev\"\n",
    "\n",
    "resp_songs = requests.get(BASE_URL + \"/songs\")\n",
    "\n",
    "songs_json = resp_songs.json()\n",
    "\n",
    "print(songs_json[0])"
   ]
  },
  {
   "cell_type": "markdown",
   "metadata": {},
   "source": [
    "That piece of code fetches a list of Taylor Swift songs from an API and prints the first song in the list.\n",
    "\n",
    "Let's do the same thing for the album endpoint."
   ]
  },
  {
   "cell_type": "code",
   "execution_count": null,
   "metadata": {},
   "outputs": [],
   "source": [
    "resp_albums = requests.get(BASE_URL + \"/albums\")\n",
    "\n",
    "albums_json = resp_albums.json()\n",
    "print(albums_json[0])"
   ]
  },
  {
   "cell_type": "markdown",
   "metadata": {},
   "source": [
    "Now we will put this data into a pandas dataframe. What is a dataframe? It is a 2-dimensional labeled data structure with columns of potentially different types. You can think of it like an Excel spreadsheet.\n"
   ]
  },
  {
   "cell_type": "code",
   "execution_count": null,
   "metadata": {},
   "outputs": [],
   "source": [
    "df = pd.DataFrame(songs_json)\n",
    "df.head()"
   ]
  },
  {
   "cell_type": "markdown",
   "metadata": {},
   "source": [
    "The head function allows you to see the first 5 rows of the dataframe.\n",
    "Now you get a better idea of how our data looks like.\n",
    "\n",
    "## Exercise\n",
    "\n",
    "How many songs does Taylor Swift have according to the dataset?\n",
    "\n",
    "Tip: Ask ChatGPT something like `I have a dataframe with songs data. How can I find the number of songs in the dataset?`"
   ]
  },
  {
   "cell_type": "code",
   "execution_count": 25,
   "metadata": {},
   "outputs": [],
   "source": [
    "# Your code goes here\n",
    "\n"
   ]
  },
  {
   "cell_type": "markdown",
   "metadata": {},
   "source": [
    "Let's do the same for the albums data"
   ]
  },
  {
   "cell_type": "code",
   "execution_count": null,
   "metadata": {},
   "outputs": [],
   "source": [
    "df_albums = pd.DataFrame(resp_albums.json())\n",
    "\n",
    "df_albums.head()"
   ]
  },
  {
   "cell_type": "markdown",
   "metadata": {},
   "source": [
    "# Exercise\n",
    "How many albums does Taylor Swift have?\n",
    "\n",
    "You shouldn't need chatGPT for this one but it's ok if you do. This is a safe space <3"
   ]
  },
  {
   "cell_type": "code",
   "execution_count": 27,
   "metadata": {},
   "outputs": [],
   "source": [
    "# Your code goes here\n"
   ]
  },
  {
   "cell_type": "markdown",
   "metadata": {},
   "source": [
    "# Merging data\n",
    "\n",
    "Now we have two dataframes with different data but if you look at the data you will see that there is a common column that is album_id. We can merge these two dataframes on this column.\n",
    "This will give us a single dataframe with all the data combined.\n",
    "\n",
    "But how can we do this? Let's see:"
   ]
  },
  {
   "cell_type": "code",
   "execution_count": null,
   "metadata": {},
   "outputs": [],
   "source": [
    "df = pd.merge(df, df_albums, \n",
    "              left_on=\"album_id\", \n",
    "              right_on=\"album_id\", \n",
    "              suffixes=(\"_song\", \"_album\"))\n",
    "\n",
    "df.head()"
   ]
  },
  {
   "cell_type": "markdown",
   "metadata": {},
   "source": [
    "Does this looks like dark magic to you? It does to me. \n",
    "You want to know how I did it? \n",
    "\n",
    "Well I asked chatGPT something like:\n",
    "```text\n",
    "I have a dataframe called df with the following columns: song_id, album_id, song_name, album_name. I want to merge it with another dataframe called df_albums with the following columns: album_id, album_name, release_date. How can I merge them?\n",
    "```\n",
    "\n",
    "and it gave me the code :D!\n",
    "\n",
    "Let's clean up the data a little bit"
   ]
  },
  {
   "cell_type": "code",
   "execution_count": 29,
   "metadata": {},
   "outputs": [],
   "source": [
    "# Remove the album_id column because we don't need it anymore\n",
    "df = df.drop(columns=[\"album_id\"])"
   ]
  },
  {
   "cell_type": "markdown",
   "metadata": {},
   "source": [
    "## Exercise\n",
    "\n",
    "Remove the columns `song_id` and `artist_id` from the DataFrame `df` because we don't need them anymore."
   ]
  },
  {
   "cell_type": "code",
   "execution_count": 30,
   "metadata": {},
   "outputs": [],
   "source": [
    "# Your code goes here\n",
    "\n"
   ]
  },
  {
   "cell_type": "markdown",
   "metadata": {},
   "source": [
    "## Technicalities\n",
    "\n",
    "We need to transfrom the `release_date` column to a datetime object. This will allow us to work with the dates in a more convenient way.\n",
    "These are mainly details, so you don't have to worry too much about them. Just run the next cell :)"
   ]
  },
  {
   "cell_type": "code",
   "execution_count": null,
   "metadata": {},
   "outputs": [],
   "source": [
    "# Transform the release_date column to a datetime object\n",
    "df[\"release_date\"] = pd.to_datetime(df[\"release_date\"])\n",
    "\n",
    "df.head()"
   ]
  },
  {
   "cell_type": "markdown",
   "metadata": {},
   "source": [
    "# Exporting to csv\n",
    "You may think, oh! but how can I share this with my friends that only use excel?\n",
    "Well, fear not my friend, pandas have you cover:"
   ]
  },
  {
   "cell_type": "code",
   "execution_count": null,
   "metadata": {},
   "outputs": [],
   "source": [
    "df.to_csv(\"taylor_swift_songs.csv\", index=False)"
   ]
  },
  {
   "cell_type": "markdown",
   "metadata": {},
   "source": [
    "You can download the file and open it on excel if you want to :)"
   ]
  },
  {
   "cell_type": "markdown",
   "metadata": {},
   "source": [
    "# Plotting!\n",
    "\n",
    "Now we get to the point where we will have nice images from our data. We will use the matplotlib library for this.\n",
    "\n",
    "Let's start by plotting the number of songs per album."
   ]
  },
  {
   "cell_type": "code",
   "execution_count": null,
   "metadata": {},
   "outputs": [],
   "source": [
    "# Plot number of songs per album\n",
    "df[\"title_album\"].value_counts().plot(kind=\"bar\")"
   ]
  },
  {
   "cell_type": "markdown",
   "metadata": {},
   "source": [
    "That was super nice because pandas has an in-built plot function but you can also do it more manually by using a library like `matplotlib`.\n",
    "This gives you more functionality control of colors, etc."
   ]
  },
  {
   "cell_type": "code",
   "execution_count": null,
   "metadata": {},
   "outputs": [],
   "source": [
    "# Plot number of songs per album using matplotlib\n",
    "\n",
    "album_value_counts = df[\"title_album\"].value_counts()\n",
    "print(album_value_counts)\n",
    "\n",
    "# Make the index written vertically\n",
    "plt.xticks(rotation=90)\n",
    "# Making a title\n",
    "plt.title(\"Number of songs per album\")\n",
    "# Making the x-axis label\n",
    "plt.xlabel(\"Album\")\n",
    "# Making the y-axis label\n",
    "plt.ylabel(\"Number of songs\")\n",
    "\n",
    "# Making the bar different colors and different width\n",
    "plt.bar(album_value_counts.index, \n",
    "        album_value_counts, \n",
    "        color=['red', 'blue', 'purple', 'green', 'lavender', 'pink'])\n"
   ]
  },
  {
   "cell_type": "markdown",
   "metadata": {},
   "source": [
    "Let's add a column that tells you in which month the album was released"
   ]
  },
  {
   "cell_type": "code",
   "execution_count": null,
   "metadata": {},
   "outputs": [],
   "source": [
    "df[\"month_release_date\"] = df[\"release_date\"].dt.month\n",
    "\n",
    "df.head()"
   ]
  },
  {
   "cell_type": "markdown",
   "metadata": {},
   "source": [
    "## Albums per month\n",
    "\n",
    "The following code first groups the data by month_release_date and counts the unique album_id in each month to determine how many albums were released. Then, it creates a bar plot displaying this information."
   ]
  },
  {
   "cell_type": "code",
   "execution_count": null,
   "metadata": {},
   "outputs": [],
   "source": [
    "\n",
    "# Group by 'month_release_date' and count distinct 'title_album'\n",
    "album_per_month = df.groupby('month_release_date')['title_album'].nunique()\n",
    "\n",
    "# Plotting the bar chart\n",
    "plt.figure(figsize=(10,6))\n",
    "album_per_month.plot(kind='bar')\n",
    "\n",
    "plt.title('Number of Albums Released per Month')\n",
    "plt.xlabel('Month')\n",
    "plt.ylabel('Number of Albums')\n",
    "plt.xticks(rotation=45)\n",
    "plt.show()"
   ]
  },
  {
   "cell_type": "markdown",
   "metadata": {},
   "source": [
    "# Exercise\n",
    "\n",
    "Plot the number of albums released per day of the month.\n",
    "\n",
    "Can you do it for the day of the week also?"
   ]
  },
  {
   "cell_type": "code",
   "execution_count": null,
   "metadata": {},
   "outputs": [],
   "source": [
    "# Your code goes here\n"
   ]
  }
 ],
 "metadata": {
  "language_info": {
   "codemirror_mode": {
    "name": "ipython",
    "version": 3
   },
   "file_extension": ".py",
   "mimetype": "text/x-python",
   "name": "python",
   "nbconvert_exporter": "python",
   "pygments_lexer": "ipython3",
   "version": "3.10.12"
  }
 },
 "nbformat": 4,
 "nbformat_minor": 2
}
